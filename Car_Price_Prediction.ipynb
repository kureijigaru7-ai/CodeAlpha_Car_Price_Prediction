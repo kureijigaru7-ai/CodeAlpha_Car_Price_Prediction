{
  "nbformat": 4,
  "nbformat_minor": 0,
  "metadata": {
    "colab": {
      "provenance": [],
      "authorship_tag": "ABX9TyNyUTCIXDSkyGleRgvWdRqP",
      "include_colab_link": true
    },
    "kernelspec": {
      "name": "python3",
      "display_name": "Python 3"
    },
    "language_info": {
      "name": "python"
    }
  },
  "cells": [
    {
      "cell_type": "markdown",
      "metadata": {
        "id": "view-in-github",
        "colab_type": "text"
      },
      "source": [
        "<a href=\"https://colab.research.google.com/github/kureijigaru7-ai/CodeAlpha_Car_Price_Prediction/blob/main/Car_Price_Prediction.ipynb\" target=\"_parent\"><img src=\"https://colab.research.google.com/assets/colab-badge.svg\" alt=\"Open In Colab\"/></a>"
      ]
    },
    {
      "cell_type": "code",
      "execution_count": 2,
      "metadata": {
        "colab": {
          "base_uri": "https://localhost:8080/"
        },
        "id": "xg3Cgw4cSL6Z",
        "outputId": "8cddd64e-2967-4798-88ff-309182371c14"
      },
      "outputs": [
        {
          "output_type": "stream",
          "name": "stdout",
          "text": [
            "Car Price Prediction model trained successfully!\n",
            "Predicted price (Year=2021, Mileage=15000): $14736.49\n"
          ]
        },
        {
          "output_type": "stream",
          "name": "stderr",
          "text": [
            "/usr/local/lib/python3.12/dist-packages/sklearn/utils/validation.py:2739: UserWarning: X does not have valid feature names, but LinearRegression was fitted with feature names\n",
            "  warnings.warn(\n"
          ]
        }
      ],
      "source": [
        "# Car Price Prediction - CodeAlpha Task\n",
        "# By: Kdsti Kidanemariam\n",
        "\n",
        "import pandas as pd\n",
        "from sklearn.linear_model import LinearRegression\n",
        "\n",
        "# Simple synthetic dataset\n",
        "data = {\n",
        "    'Year': [2015, 2016, 2017, 2018, 2019, 2020],\n",
        "    'Mileage': [70000, 65000, 50000, 40000, 30000, 20000],\n",
        "    'Price': [5000, 7000, 8500, 9500, 11000, 13000]\n",
        "}\n",
        "\n",
        "df = pd.DataFrame(data)\n",
        "\n",
        "X = df[['Year', 'Mileage']]\n",
        "y = df['Price']\n",
        "\n",
        "model = LinearRegression()\n",
        "model.fit(X, y)\n",
        "\n",
        "print(\"Car Price Prediction model trained successfully!\")\n",
        "print(f\"Predicted price (Year=2021, Mileage=15000): ${model.predict([[2021, 15000]])[0]:.2f}\")"
      ]
    }
  ]
}